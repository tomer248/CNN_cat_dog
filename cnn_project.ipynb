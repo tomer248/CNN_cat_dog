{
 "cells": [
  {
   "cell_type": "code",
   "execution_count": 1,
   "metadata": {},
   "outputs": [
    {
     "name": "stderr",
     "output_type": "stream",
     "text": [
      "C:\\Users\\tomer\\Anaconda3\\lib\\site-packages\\tensorflow\\python\\framework\\dtypes.py:516: FutureWarning: Passing (type, 1) or '1type' as a synonym of type is deprecated; in a future version of numpy, it will be understood as (type, (1,)) / '(1,)type'.\n",
      "  _np_qint8 = np.dtype([(\"qint8\", np.int8, 1)])\n",
      "C:\\Users\\tomer\\Anaconda3\\lib\\site-packages\\tensorflow\\python\\framework\\dtypes.py:517: FutureWarning: Passing (type, 1) or '1type' as a synonym of type is deprecated; in a future version of numpy, it will be understood as (type, (1,)) / '(1,)type'.\n",
      "  _np_quint8 = np.dtype([(\"quint8\", np.uint8, 1)])\n",
      "C:\\Users\\tomer\\Anaconda3\\lib\\site-packages\\tensorflow\\python\\framework\\dtypes.py:518: FutureWarning: Passing (type, 1) or '1type' as a synonym of type is deprecated; in a future version of numpy, it will be understood as (type, (1,)) / '(1,)type'.\n",
      "  _np_qint16 = np.dtype([(\"qint16\", np.int16, 1)])\n",
      "C:\\Users\\tomer\\Anaconda3\\lib\\site-packages\\tensorflow\\python\\framework\\dtypes.py:519: FutureWarning: Passing (type, 1) or '1type' as a synonym of type is deprecated; in a future version of numpy, it will be understood as (type, (1,)) / '(1,)type'.\n",
      "  _np_quint16 = np.dtype([(\"quint16\", np.uint16, 1)])\n",
      "C:\\Users\\tomer\\Anaconda3\\lib\\site-packages\\tensorflow\\python\\framework\\dtypes.py:520: FutureWarning: Passing (type, 1) or '1type' as a synonym of type is deprecated; in a future version of numpy, it will be understood as (type, (1,)) / '(1,)type'.\n",
      "  _np_qint32 = np.dtype([(\"qint32\", np.int32, 1)])\n",
      "C:\\Users\\tomer\\Anaconda3\\lib\\site-packages\\tensorflow\\python\\framework\\dtypes.py:525: FutureWarning: Passing (type, 1) or '1type' as a synonym of type is deprecated; in a future version of numpy, it will be understood as (type, (1,)) / '(1,)type'.\n",
      "  np_resource = np.dtype([(\"resource\", np.ubyte, 1)])\n",
      "C:\\Users\\tomer\\Anaconda3\\lib\\site-packages\\tensorboard\\compat\\tensorflow_stub\\dtypes.py:541: FutureWarning: Passing (type, 1) or '1type' as a synonym of type is deprecated; in a future version of numpy, it will be understood as (type, (1,)) / '(1,)type'.\n",
      "  _np_qint8 = np.dtype([(\"qint8\", np.int8, 1)])\n",
      "C:\\Users\\tomer\\Anaconda3\\lib\\site-packages\\tensorboard\\compat\\tensorflow_stub\\dtypes.py:542: FutureWarning: Passing (type, 1) or '1type' as a synonym of type is deprecated; in a future version of numpy, it will be understood as (type, (1,)) / '(1,)type'.\n",
      "  _np_quint8 = np.dtype([(\"quint8\", np.uint8, 1)])\n",
      "C:\\Users\\tomer\\Anaconda3\\lib\\site-packages\\tensorboard\\compat\\tensorflow_stub\\dtypes.py:543: FutureWarning: Passing (type, 1) or '1type' as a synonym of type is deprecated; in a future version of numpy, it will be understood as (type, (1,)) / '(1,)type'.\n",
      "  _np_qint16 = np.dtype([(\"qint16\", np.int16, 1)])\n",
      "C:\\Users\\tomer\\Anaconda3\\lib\\site-packages\\tensorboard\\compat\\tensorflow_stub\\dtypes.py:544: FutureWarning: Passing (type, 1) or '1type' as a synonym of type is deprecated; in a future version of numpy, it will be understood as (type, (1,)) / '(1,)type'.\n",
      "  _np_quint16 = np.dtype([(\"quint16\", np.uint16, 1)])\n",
      "C:\\Users\\tomer\\Anaconda3\\lib\\site-packages\\tensorboard\\compat\\tensorflow_stub\\dtypes.py:545: FutureWarning: Passing (type, 1) or '1type' as a synonym of type is deprecated; in a future version of numpy, it will be understood as (type, (1,)) / '(1,)type'.\n",
      "  _np_qint32 = np.dtype([(\"qint32\", np.int32, 1)])\n",
      "C:\\Users\\tomer\\Anaconda3\\lib\\site-packages\\tensorboard\\compat\\tensorflow_stub\\dtypes.py:550: FutureWarning: Passing (type, 1) or '1type' as a synonym of type is deprecated; in a future version of numpy, it will be understood as (type, (1,)) / '(1,)type'.\n",
      "  np_resource = np.dtype([(\"resource\", np.ubyte, 1)])\n",
      "Using TensorFlow backend.\n"
     ]
    }
   ],
   "source": [
    "#importing the libraries\n",
    "\n",
    "import tensorflow as tf\n",
    "from keras.preprocessing.image import ImageDataGenerator"
   ]
  },
  {
   "cell_type": "code",
   "execution_count": 2,
   "metadata": {},
   "outputs": [
    {
     "name": "stdout",
     "output_type": "stream",
     "text": [
      "Found 8000 images belonging to 2 classes.\n",
      "Found 2000 images belonging to 2 classes.\n"
     ]
    }
   ],
   "source": [
    "#part1- data preprocessing\n",
    "\n",
    "train_datagen = ImageDataGenerator(\n",
    "        rescale=1./255,\n",
    "        shear_range=0.2,\n",
    "        zoom_range=0.2,\n",
    "        horizontal_flip=True)\n",
    "\n",
    "training_set = train_datagen.flow_from_directory(\n",
    "        'dataset/training_set',\n",
    "        target_size=(64, 64),\n",
    "        batch_size=32,\n",
    "        class_mode='binary')\n",
    "\n",
    "\n",
    "test_datagen = ImageDataGenerator(rescale=1./255)\n",
    "\n",
    "test_set = test_datagen.flow_from_directory(\n",
    "        'dataset/test_set',\n",
    "        target_size=(64, 64),\n",
    "        batch_size=32,\n",
    "        class_mode='binary')\n"
   ]
  },
  {
   "cell_type": "code",
   "execution_count": 3,
   "metadata": {},
   "outputs": [
    {
     "name": "stdout",
     "output_type": "stream",
     "text": [
      "WARNING:tensorflow:From C:\\Users\\tomer\\Anaconda3\\lib\\site-packages\\tensorflow\\python\\ops\\init_ops.py:1251: calling VarianceScaling.__init__ (from tensorflow.python.ops.init_ops) with dtype is deprecated and will be removed in a future version.\n",
      "Instructions for updating:\n",
      "Call initializer instance with the dtype argument instead of passing it to the constructor\n"
     ]
    }
   ],
   "source": [
    "#initialising the CNN\n",
    "\n",
    "cnn= tf.keras.models.Sequential()\n",
    "\n",
    "#step 1- convolutional\n",
    "cnn.add(tf.keras.layers.Conv2D(input_shape=[64,64,3], filters=32 , kernel_size=3 ,activation = 'relu'))\n",
    "\n",
    "#step 2 pooling\n",
    "cnn.add(tf.keras.layers.MaxPool2D(pool_size = 2, strides = 2))\n",
    "\n",
    "#adding a second convolutional layer\n",
    "cnn.add(tf.keras.layers.Conv2D(input_shape=[64,64,3], filters=32 , kernel_size=3 ,activation = 'relu'))\n",
    "cnn.add(tf.keras.layers.MaxPool2D(pool_size = 2, strides = 2))\n",
    "\n",
    "#step 3 -Flattening\n",
    "cnn.add(tf.keras.layers.Flatten())\n",
    "\n",
    "#step4- Full connection\n",
    "cnn.add(tf.keras.layers.Dense(units=128, activation = 'relu'))\n",
    "\n",
    "#step5 -Output Layer\n",
    "cnn.add(tf.keras.layers.Dense(units=1, activation = 'sigmoid'))\n"
   ]
  },
  {
   "cell_type": "code",
   "execution_count": 5,
   "metadata": {},
   "outputs": [
    {
     "name": "stdout",
     "output_type": "stream",
     "text": [
      "WARNING:tensorflow:From C:\\Users\\tomer\\Anaconda3\\lib\\site-packages\\tensorflow\\python\\ops\\nn_impl.py:180: add_dispatch_support.<locals>.wrapper (from tensorflow.python.ops.array_ops) is deprecated and will be removed in a future version.\n",
      "Instructions for updating:\n",
      "Use tf.where in 2.0, which has the same broadcast rule as np.where\n",
      "Epoch 1/25\n",
      "250/250 [==============================] - 97s 387ms/step - loss: 0.6677 - acc: 0.5920 - val_loss: 0.6454 - val_acc: 0.6255\n",
      "Epoch 2/25\n",
      "250/250 [==============================] - 42s 167ms/step - loss: 0.5939 - acc: 0.6858 - val_loss: 0.6153 - val_acc: 0.6725\n",
      "Epoch 3/25\n",
      "250/250 [==============================] - 41s 164ms/step - loss: 0.5545 - acc: 0.7180 - val_loss: 0.5504 - val_acc: 0.7215\n",
      "Epoch 4/25\n",
      "250/250 [==============================] - 39s 156ms/step - loss: 0.5261 - acc: 0.7442 - val_loss: 0.5226 - val_acc: 0.7505\n",
      "Epoch 5/25\n",
      "250/250 [==============================] - 38s 152ms/step - loss: 0.4980 - acc: 0.7576 - val_loss: 0.4955 - val_acc: 0.7665\n",
      "Epoch 6/25\n",
      "250/250 [==============================] - 41s 163ms/step - loss: 0.4732 - acc: 0.7681 - val_loss: 0.4934 - val_acc: 0.7575\n",
      "Epoch 7/25\n",
      "250/250 [==============================] - 35s 138ms/step - loss: 0.4607 - acc: 0.7774 - val_loss: 0.4637 - val_acc: 0.7880\n",
      "Epoch 8/25\n",
      "250/250 [==============================] - 37s 147ms/step - loss: 0.4504 - acc: 0.7875 - val_loss: 0.4855 - val_acc: 0.7650\n",
      "Epoch 9/25\n",
      "250/250 [==============================] - 34s 134ms/step - loss: 0.4307 - acc: 0.8044 - val_loss: 0.4619 - val_acc: 0.7880\n",
      "Epoch 10/25\n",
      "250/250 [==============================] - 37s 148ms/step - loss: 0.4187 - acc: 0.8070 - val_loss: 0.4496 - val_acc: 0.8100\n",
      "Epoch 11/25\n",
      "250/250 [==============================] - 35s 141ms/step - loss: 0.4115 - acc: 0.8080 - val_loss: 0.4430 - val_acc: 0.8015\n",
      "Epoch 12/25\n",
      "250/250 [==============================] - 47s 188ms/step - loss: 0.3986 - acc: 0.8163 - val_loss: 0.4459 - val_acc: 0.7915\n",
      "Epoch 13/25\n",
      "250/250 [==============================] - 75s 299ms/step - loss: 0.3941 - acc: 0.8155 - val_loss: 0.4452 - val_acc: 0.8005\n",
      "Epoch 14/25\n",
      "250/250 [==============================] - 41s 164ms/step - loss: 0.3825 - acc: 0.8253 - val_loss: 0.5671 - val_acc: 0.7425\n",
      "Epoch 15/25\n",
      "250/250 [==============================] - 82s 330ms/step - loss: 0.3675 - acc: 0.8342 - val_loss: 0.4499 - val_acc: 0.7995\n",
      "Epoch 16/25\n",
      "250/250 [==============================] - 38s 152ms/step - loss: 0.3662 - acc: 0.8349 - val_loss: 0.4396 - val_acc: 0.7955\n",
      "Epoch 17/25\n",
      "250/250 [==============================] - 38s 152ms/step - loss: 0.3469 - acc: 0.8422 - val_loss: 0.4426 - val_acc: 0.7990\n",
      "Epoch 18/25\n",
      "250/250 [==============================] - 47s 187ms/step - loss: 0.3425 - acc: 0.8474 - val_loss: 0.4655 - val_acc: 0.7935\n",
      "Epoch 19/25\n",
      "250/250 [==============================] - 36s 145ms/step - loss: 0.3270 - acc: 0.8577 - val_loss: 0.4336 - val_acc: 0.8230\n",
      "Epoch 20/25\n",
      "250/250 [==============================] - 42s 166ms/step - loss: 0.3192 - acc: 0.8633 - val_loss: 0.4353 - val_acc: 0.8215\n",
      "Epoch 21/25\n",
      "250/250 [==============================] - 38s 150ms/step - loss: 0.3147 - acc: 0.8618 - val_loss: 0.4592 - val_acc: 0.7990\n",
      "Epoch 22/25\n",
      "250/250 [==============================] - 39s 157ms/step - loss: 0.3114 - acc: 0.8635 - val_loss: 0.5487 - val_acc: 0.7605\n",
      "Epoch 23/25\n",
      "250/250 [==============================] - 39s 155ms/step - loss: 0.2914 - acc: 0.8714 - val_loss: 0.5168 - val_acc: 0.7980\n",
      "Epoch 24/25\n",
      "250/250 [==============================] - 38s 152ms/step - loss: 0.2944 - acc: 0.8721 - val_loss: 0.4601 - val_acc: 0.8045\n",
      "Epoch 25/25\n",
      "250/250 [==============================] - 37s 146ms/step - loss: 0.2776 - acc: 0.8842 - val_loss: 0.5373 - val_acc: 0.7775\n",
      "dog\n"
     ]
    }
   ],
   "source": [
    "#Part 3 - Training the CNN\n",
    "#compailing the CNN\n",
    "cnn.compile(optimizer= 'adam', loss= 'binary_crossentropy', metrics=['accuracy'])\n",
    "\n",
    "#training the CNN on the training set and ecaluating it on the test set\n",
    "cnn.fit(x=training_set, validation_data=test_set, epochs = 25)\n",
    "\n",
    "import numpy as np\n",
    "from keras.preprocessing import image\n",
    "test_image = image.load_img('dataset/single_prediction/cat_or_dog_1.jpg', target_size=(64,64))\n",
    "test_image = image.img_to_array(test_image)\n",
    "test_image = np.expand_dims(test_image, axis = 0)\n",
    "result = cnn.predict(test_image)\n",
    "training_set.class_indices\n",
    "if result[0][0] == 1:\n",
    "    prediction = 'dog'\n",
    "else:\n",
    "    prediction ='cat'\n",
    "    \n",
    "print(prediction)"
   ]
  },
  {
   "cell_type": "code",
   "execution_count": 7,
   "metadata": {},
   "outputs": [
    {
     "name": "stdout",
     "output_type": "stream",
     "text": [
      "dog  1  prediction is a: dog\n",
      "dog  2  prediction is a: dog\n",
      "dog  3  prediction is a: dog\n",
      "dog  4  prediction is a: cat\n",
      "dog  5  prediction is a: dog\n",
      "dog  6  prediction is a: dog\n",
      "dog  7  prediction is a: dog\n",
      "dog  8  prediction is a: dog\n",
      "dog  9  prediction is a: dog\n",
      "dog  10  prediction is a: dog\n",
      "dog  11  prediction is a: dog\n",
      "dog  12  prediction is a: dog\n",
      "dog  13  prediction is a: dog\n"
     ]
    }
   ],
   "source": [
    "#testing ella's dogos\n",
    "for i in range (1,14):\n",
    "    stringer = 'dataset/ella/dog'+str(i)+'.jpeg'\n",
    "    test_image = image.load_img(stringer, target_size=(64,64))\n",
    "    test_image = image.img_to_array(test_image)\n",
    "    test_image = np.expand_dims(test_image, axis = 0)\n",
    "    result = cnn.predict(test_image)\n",
    "    training_set.class_indices\n",
    "    if result[0][0] == 1:\n",
    "        prediction = 'dog'\n",
    "    else:\n",
    "        prediction ='cat'\n",
    "    \n",
    "    print(\"dog \",i,\" prediction is a:\",prediction)"
   ]
  },
  {
   "cell_type": "code",
   "execution_count": 8,
   "metadata": {},
   "outputs": [
    {
     "name": "stdout",
     "output_type": "stream",
     "text": [
      "0.9230769230769231\n"
     ]
    }
   ],
   "source": [
    "print(12/13)"
   ]
  },
  {
   "cell_type": "code",
   "execution_count": null,
   "metadata": {},
   "outputs": [],
   "source": []
  }
 ],
 "metadata": {
  "kernelspec": {
   "display_name": "Python 3",
   "language": "python",
   "name": "python3"
  },
  "language_info": {
   "codemirror_mode": {
    "name": "ipython",
    "version": 3
   },
   "file_extension": ".py",
   "mimetype": "text/x-python",
   "name": "python",
   "nbconvert_exporter": "python",
   "pygments_lexer": "ipython3",
   "version": "3.7.3"
  }
 },
 "nbformat": 4,
 "nbformat_minor": 4
}
